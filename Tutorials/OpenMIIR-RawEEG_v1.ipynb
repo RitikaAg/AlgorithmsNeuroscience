{
 "cells": [
  {
   "cell_type": "code",
   "execution_count": null,
   "metadata": {},
   "outputs": [],
   "source": []
  },
  {
   "cell_type": "code",
   "execution_count": null,
   "metadata": {},
   "outputs": [],
   "source": []
  },
  {
   "cell_type": "code",
   "execution_count": 78,
   "metadata": {},
   "outputs": [],
   "source": [
    "import numpy as np\n",
    "import mne\n",
    "from mne.io import concatenate_raws, read_raw_fif\n",
    "import mne.viz\n",
    "from os import walk"
   ]
  },
  {
   "cell_type": "code",
   "execution_count": 79,
   "metadata": {},
   "outputs": [],
   "source": [
    "files = []\n",
    "path = '../../OpenMIIR-RawEEG_v1/'\n",
    "for (dirpath, dirnames, filenames) in walk(path):\n",
    "    new_names = [dirpath+f for f in filenames]\n",
    "    files.extend(new_names)\n",
    "    break"
   ]
  },
  {
   "cell_type": "code",
   "execution_count": 80,
   "metadata": {},
   "outputs": [
    {
     "name": "stdout",
     "output_type": "stream",
     "text": [
      "Opening raw data file ../../OpenMIIR-RawEEG_v1/P13-raw.fif...\n",
      "Isotrak not found\n",
      "    Read a total of 1 projection items:\n",
      "        Average EEG reference (1 x 66)  idle\n",
      "    Range : 0 ... 2511914 =      0.000 ...  4906.082 secs\n",
      "Ready.\n",
      "Reading 0 ... 2511914  =      0.000 ...  4906.082 secs...\n",
      "Opening raw data file ../../OpenMIIR-RawEEG_v1/P12-raw.fif...\n",
      "Isotrak not found\n",
      "    Read a total of 1 projection items:\n",
      "        Average EEG reference (1 x 66)  idle\n",
      "    Range : 0 ... 2485348 =      0.000 ...  4854.195 secs\n",
      "Ready.\n",
      "Reading 0 ... 2485348  =      0.000 ...  4854.195 secs...\n",
      "Opening raw data file ../../OpenMIIR-RawEEG_v1/P09-raw.fif...\n",
      "Isotrak not found\n",
      "    Read a total of 1 projection items:\n",
      "        Average EEG reference (1 x 66)  idle\n",
      "    Range : 0 ... 2440555 =      0.000 ...  4766.709 secs\n",
      "Ready.\n",
      "Reading 0 ... 2440555  =      0.000 ...  4766.709 secs...\n",
      "Opening raw data file ../../OpenMIIR-RawEEG_v1/P11-raw.fif...\n",
      "Isotrak not found\n",
      "    Read a total of 1 projection items:\n",
      "        Average EEG reference (1 x 66)  idle\n",
      "    Range : 0 ... 2644880 =      0.000 ...  5165.781 secs\n",
      "Ready.\n",
      "Reading 0 ... 2644880  =      0.000 ...  5165.781 secs...\n",
      "Opening raw data file ../../OpenMIIR-RawEEG_v1/P01-raw.fif...\n",
      "Isotrak not found\n",
      "    Read a total of 1 projection items:\n",
      "        Average EEG reference (1 x 64)  idle\n",
      "    Range : 0 ... 2478165 =      0.000 ...  4840.166 secs\n",
      "Ready.\n",
      "Reading 0 ... 2478165  =      0.000 ...  4840.166 secs...\n",
      "Opening raw data file ../../OpenMIIR-RawEEG_v1/P04-raw.fif...\n",
      "Isotrak not found\n",
      "    Read a total of 1 projection items:\n",
      "        Average EEG reference (1 x 64)  idle\n",
      "    Range : 0 ... 2480032 =      0.000 ...  4843.812 secs\n",
      "Ready.\n",
      "Reading 0 ... 2480032  =      0.000 ...  4843.812 secs...\n",
      "Opening raw data file ../../OpenMIIR-RawEEG_v1/P14-raw.fif...\n",
      "Isotrak not found\n",
      "    Read a total of 1 projection items:\n",
      "        Average EEG reference (1 x 66)  idle\n",
      "    Range : 0 ... 2465433 =      0.000 ...  4815.299 secs\n",
      "Ready.\n",
      "Reading 0 ... 2465433  =      0.000 ...  4815.299 secs...\n",
      "Opening raw data file ../../OpenMIIR-RawEEG_v1/P05-raw.fif...\n",
      "Isotrak not found\n",
      "    Read a total of 1 projection items:\n",
      "        Average EEG reference (1 x 64)  idle\n",
      "    Range : 0 ... 2521101 =      0.000 ...  4924.025 secs\n",
      "Ready.\n",
      "Reading 0 ... 2521101  =      0.000 ...  4924.025 secs...\n",
      "Opening raw data file ../../OpenMIIR-RawEEG_v1/P07-raw.fif...\n",
      "Isotrak not found\n",
      "    Read a total of 1 projection items:\n",
      "        Average EEG reference (1 x 64)  idle\n",
      "    Range : 0 ... 2520436 =      0.000 ...  4922.727 secs\n",
      "Ready.\n",
      "Reading 0 ... 2520436  =      0.000 ...  4922.727 secs...\n",
      "Opening raw data file ../../OpenMIIR-RawEEG_v1/P06-raw.fif...\n",
      "Isotrak not found\n",
      "    Read a total of 1 projection items:\n",
      "        Average EEG reference (1 x 64)  idle\n",
      "    Range : 0 ... 2433033 =      0.000 ...  4752.018 secs\n",
      "Ready.\n",
      "Reading 0 ... 2433033  =      0.000 ...  4752.018 secs...\n"
     ]
    }
   ],
   "source": [
    "raws = [read_raw_fif(f, preload=True) for f in files]"
   ]
  },
  {
   "cell_type": "code",
   "execution_count": 81,
   "metadata": {},
   "outputs": [],
   "source": [
    "#copy the original version of list of objects to original raws before proceeding\n",
    "import copy\n",
    "original_raws = copy.deepcopy(raws)"
   ]
  },
  {
   "cell_type": "code",
   "execution_count": 83,
   "metadata": {},
   "outputs": [
    {
     "name": "stdout",
     "output_type": "stream",
     "text": [
      "71\n",
      "71\n",
      "71\n",
      "71\n",
      "69\n",
      "69\n",
      "71\n",
      "69\n",
      "69\n",
      "69\n"
     ]
    }
   ],
   "source": [
    "#Check the number of channels for each participant\n",
    "for r in range(len(original_raws)):\n",
    "        print(len(original_raws[r].info['ch_names']))"
   ]
  },
  {
   "cell_type": "code",
   "execution_count": 84,
   "metadata": {},
   "outputs": [
    {
     "name": "stdout",
     "output_type": "stream",
     "text": [
      "['P1', 'AF3', 'CP5', 'C2', 'F2', 'Iz', 'Pz', 'Fz', 'F8', 'P6', 'T8', 'EXG1', 'F5', 'F7', 'EXG3', 'PO8', 'AF7', 'P8', 'FC5', 'POz', 'FC2', 'P3', 'P7', 'PO7', 'Oz', 'T7', 'P4', 'P9', 'F1', 'O2', 'CP6', 'EXG2', 'FC4', 'C3', 'C5', 'O1', 'P2', 'CP1', 'F4', 'CP4', 'F3', 'C1', 'TP7', 'CP2', 'P10', 'Fp2', 'Fp1', 'CPz', 'PO3', 'FCz', 'P5', 'C4', 'STI 014', 'EXG4', 'AF4', 'AFz', 'FT7', 'AF8', 'F6', 'FC1', 'FT8', 'FC6', 'PO4', 'C6', 'CP3', 'FC3', 'Fpz', 'TP8', 'Cz']\n"
     ]
    }
   ],
   "source": [
    "# Get the channels that exist in each participant\n",
    "common_channels = set(raws[0].ch_names)\n",
    "for s in raws[1:]:\n",
    "    common_channels = set(common_channels) & set(s.ch_names)\n",
    "\n",
    "common_channels = list(common_channels)\n",
    "print(common_channels)"
   ]
  },
  {
   "cell_type": "code",
   "execution_count": 85,
   "metadata": {},
   "outputs": [
    {
     "name": "stdout",
     "output_type": "stream",
     "text": [
      "71\n",
      "69\n",
      "71\n",
      "69\n",
      "71\n",
      "69\n",
      "71\n",
      "69\n",
      "69\n",
      "69\n",
      "69\n",
      "69\n",
      "71\n",
      "69\n",
      "69\n",
      "69\n",
      "69\n",
      "69\n",
      "69\n",
      "69\n"
     ]
    }
   ],
   "source": [
    "# Include only the common channels \n",
    "# Drop bad channels\n",
    "#new_raws = [mne.pick_channels(r, include = common_channels) for r in original_raws]\n",
    "for r in raws:\n",
    "    print(len(r.ch_names))\n",
    "    print(len(common_channels))\n",
    "    r.pick_channels(ch_names = common_channels)"
   ]
  },
  {
   "cell_type": "code",
   "execution_count": 86,
   "metadata": {},
   "outputs": [
    {
     "name": "stdout",
     "output_type": "stream",
     "text": [
      "69\n",
      "69\n",
      "69\n",
      "69\n",
      "69\n",
      "69\n",
      "69\n",
      "69\n",
      "69\n",
      "69\n"
     ]
    }
   ],
   "source": [
    "for r in range(len(raws)):\n",
    "        print(len(raws[r].info['ch_names']))"
   ]
  },
  {
   "cell_type": "code",
   "execution_count": 87,
   "metadata": {},
   "outputs": [
    {
     "name": "stdout",
     "output_type": "stream",
     "text": [
      "['Iz', 'C3', 'PO3', 'T7', 'T8', 'P8', 'P10', 'F7', 'FT7']\n"
     ]
    }
   ],
   "source": [
    "# Extract bad channels\n",
    "bad_channels = []\n",
    "for r in raws:\n",
    "    bad = r.info['bads']\n",
    "    if bad:\n",
    "        bad = [b for b in bad if b not in bad_channels]\n",
    "        bad_channels.extend(bad)\n",
    "print(bad_channels)"
   ]
  },
  {
   "cell_type": "code",
   "execution_count": 88,
   "metadata": {},
   "outputs": [],
   "source": [
    "# Drop bad channels\n",
    "new_raws = [r.drop_channels(bad_channels) for r in raws]"
   ]
  },
  {
   "cell_type": "code",
   "execution_count": 90,
   "metadata": {},
   "outputs": [
    {
     "name": "stdout",
     "output_type": "stream",
     "text": [
      "60\n",
      "60\n",
      "60\n",
      "60\n",
      "60\n",
      "60\n",
      "60\n",
      "60\n",
      "60\n",
      "60\n"
     ]
    }
   ],
   "source": [
    "#raw_obj = concatenate_raws(new_raws)\n",
    "for r in range(len(raws)):\n",
    "    print(len(raws[r].info['ch_names']))"
   ]
  },
  {
   "cell_type": "code",
   "execution_count": 91,
   "metadata": {},
   "outputs": [
    {
     "name": "stdout",
     "output_type": "stream",
     "text": [
      "71\n",
      "71\n",
      "71\n",
      "71\n",
      "69\n",
      "69\n",
      "71\n",
      "69\n",
      "69\n",
      "69\n"
     ]
    }
   ],
   "source": [
    "for r in range(len(original_raws)):\n",
    "        print(len(original_raws[r].info['ch_names']))"
   ]
  },
  {
   "cell_type": "code",
   "execution_count": 92,
   "metadata": {},
   "outputs": [
    {
     "ename": "ValueError",
     "evalue": "SSP projectors in raw files must be the same",
     "output_type": "error",
     "traceback": [
      "\u001b[0;31m---------------------------------------------------------------------------\u001b[0m",
      "\u001b[0;31mValueError\u001b[0m                                Traceback (most recent call last)",
      "\u001b[0;32m<ipython-input-92-93a245053945>\u001b[0m in \u001b[0;36m<module>\u001b[0;34m\u001b[0m\n\u001b[0;32m----> 1\u001b[0;31m \u001b[0mraw_obj\u001b[0m \u001b[0;34m=\u001b[0m \u001b[0mconcatenate_raws\u001b[0m\u001b[0;34m(\u001b[0m\u001b[0mraws\u001b[0m\u001b[0;34m)\u001b[0m\u001b[0;34m\u001b[0m\u001b[0;34m\u001b[0m\u001b[0m\n\u001b[0m",
      "\u001b[0;32m</anaconda3/envs/pinar/lib/python3.7/site-packages/mne/externals/decorator.py:decorator-gen-144>\u001b[0m in \u001b[0;36mconcatenate_raws\u001b[0;34m(raws, preload, events_list, verbose)\u001b[0m\n",
      "\u001b[0;32m/anaconda3/envs/pinar/lib/python3.7/site-packages/mne/utils/_logging.py\u001b[0m in \u001b[0;36mwrapper\u001b[0;34m(*args, **kwargs)\u001b[0m\n\u001b[1;32m     87\u001b[0m             \u001b[0;32mwith\u001b[0m \u001b[0muse_log_level\u001b[0m\u001b[0;34m(\u001b[0m\u001b[0mverbose_level\u001b[0m\u001b[0;34m)\u001b[0m\u001b[0;34m:\u001b[0m\u001b[0;34m\u001b[0m\u001b[0;34m\u001b[0m\u001b[0m\n\u001b[1;32m     88\u001b[0m                 \u001b[0;32mreturn\u001b[0m \u001b[0mfunction\u001b[0m\u001b[0;34m(\u001b[0m\u001b[0;34m*\u001b[0m\u001b[0margs\u001b[0m\u001b[0;34m,\u001b[0m \u001b[0;34m**\u001b[0m\u001b[0mkwargs\u001b[0m\u001b[0;34m)\u001b[0m\u001b[0;34m\u001b[0m\u001b[0;34m\u001b[0m\u001b[0m\n\u001b[0;32m---> 89\u001b[0;31m         \u001b[0;32mreturn\u001b[0m \u001b[0mfunction\u001b[0m\u001b[0;34m(\u001b[0m\u001b[0;34m*\u001b[0m\u001b[0margs\u001b[0m\u001b[0;34m,\u001b[0m \u001b[0;34m**\u001b[0m\u001b[0mkwargs\u001b[0m\u001b[0;34m)\u001b[0m\u001b[0;34m\u001b[0m\u001b[0;34m\u001b[0m\u001b[0m\n\u001b[0m\u001b[1;32m     90\u001b[0m     return FunctionMaker.create(\n\u001b[1;32m     91\u001b[0m         \u001b[0mfunction\u001b[0m\u001b[0;34m,\u001b[0m \u001b[0;34m'return decfunc(%(signature)s)'\u001b[0m\u001b[0;34m,\u001b[0m\u001b[0;34m\u001b[0m\u001b[0;34m\u001b[0m\u001b[0m\n",
      "\u001b[0;32m/anaconda3/envs/pinar/lib/python3.7/site-packages/mne/io/base.py\u001b[0m in \u001b[0;36mconcatenate_raws\u001b[0;34m(raws, preload, events_list, verbose)\u001b[0m\n\u001b[1;32m   2389\u001b[0m         \u001b[0mfirst\u001b[0m\u001b[0;34m,\u001b[0m \u001b[0mlast\u001b[0m \u001b[0;34m=\u001b[0m \u001b[0mzip\u001b[0m\u001b[0;34m(\u001b[0m\u001b[0;34m*\u001b[0m\u001b[0;34m[\u001b[0m\u001b[0;34m(\u001b[0m\u001b[0mr\u001b[0m\u001b[0;34m.\u001b[0m\u001b[0mfirst_samp\u001b[0m\u001b[0;34m,\u001b[0m \u001b[0mr\u001b[0m\u001b[0;34m.\u001b[0m\u001b[0mlast_samp\u001b[0m\u001b[0;34m)\u001b[0m \u001b[0;32mfor\u001b[0m \u001b[0mr\u001b[0m \u001b[0;32min\u001b[0m \u001b[0mraws\u001b[0m\u001b[0;34m]\u001b[0m\u001b[0;34m)\u001b[0m\u001b[0;34m\u001b[0m\u001b[0;34m\u001b[0m\u001b[0m\n\u001b[1;32m   2390\u001b[0m         \u001b[0mevents\u001b[0m \u001b[0;34m=\u001b[0m \u001b[0mconcatenate_events\u001b[0m\u001b[0;34m(\u001b[0m\u001b[0mevents_list\u001b[0m\u001b[0;34m,\u001b[0m \u001b[0mfirst\u001b[0m\u001b[0;34m,\u001b[0m \u001b[0mlast\u001b[0m\u001b[0;34m)\u001b[0m\u001b[0;34m\u001b[0m\u001b[0;34m\u001b[0m\u001b[0m\n\u001b[0;32m-> 2391\u001b[0;31m     \u001b[0mraws\u001b[0m\u001b[0;34m[\u001b[0m\u001b[0;36m0\u001b[0m\u001b[0;34m]\u001b[0m\u001b[0;34m.\u001b[0m\u001b[0mappend\u001b[0m\u001b[0;34m(\u001b[0m\u001b[0mraws\u001b[0m\u001b[0;34m[\u001b[0m\u001b[0;36m1\u001b[0m\u001b[0;34m:\u001b[0m\u001b[0;34m]\u001b[0m\u001b[0;34m,\u001b[0m \u001b[0mpreload\u001b[0m\u001b[0;34m)\u001b[0m\u001b[0;34m\u001b[0m\u001b[0;34m\u001b[0m\u001b[0m\n\u001b[0m\u001b[1;32m   2392\u001b[0m \u001b[0;34m\u001b[0m\u001b[0m\n\u001b[1;32m   2393\u001b[0m     \u001b[0;32mif\u001b[0m \u001b[0mevents_list\u001b[0m \u001b[0;32mis\u001b[0m \u001b[0;32mNone\u001b[0m\u001b[0;34m:\u001b[0m\u001b[0;34m\u001b[0m\u001b[0;34m\u001b[0m\u001b[0m\n",
      "\u001b[0;32m/anaconda3/envs/pinar/lib/python3.7/site-packages/mne/io/base.py\u001b[0m in \u001b[0;36mappend\u001b[0;34m(self, raws, preload)\u001b[0m\n\u001b[1;32m   1861\u001b[0m         \u001b[0mall_raws\u001b[0m \u001b[0;34m=\u001b[0m \u001b[0;34m[\u001b[0m\u001b[0mself\u001b[0m\u001b[0;34m]\u001b[0m\u001b[0;34m\u001b[0m\u001b[0;34m\u001b[0m\u001b[0m\n\u001b[1;32m   1862\u001b[0m         \u001b[0mall_raws\u001b[0m \u001b[0;34m+=\u001b[0m \u001b[0mraws\u001b[0m\u001b[0;34m\u001b[0m\u001b[0;34m\u001b[0m\u001b[0m\n\u001b[0;32m-> 1863\u001b[0;31m         \u001b[0m_check_raw_compatibility\u001b[0m\u001b[0;34m(\u001b[0m\u001b[0mall_raws\u001b[0m\u001b[0;34m)\u001b[0m\u001b[0;34m\u001b[0m\u001b[0;34m\u001b[0m\u001b[0m\n\u001b[0m\u001b[1;32m   1864\u001b[0m \u001b[0;34m\u001b[0m\u001b[0m\n\u001b[1;32m   1865\u001b[0m         \u001b[0;31m# deal with preloading data first (while files are separate)\u001b[0m\u001b[0;34m\u001b[0m\u001b[0;34m\u001b[0m\u001b[0;34m\u001b[0m\u001b[0m\n",
      "\u001b[0;32m/anaconda3/envs/pinar/lib/python3.7/site-packages/mne/io/base.py\u001b[0m in \u001b[0;36m_check_raw_compatibility\u001b[0;34m(raw)\u001b[0m\n\u001b[1;32m   2347\u001b[0m         if not all(_proj_equal(p1, p2) for p1, p2 in\n\u001b[1;32m   2348\u001b[0m                    zip(raw[0].info['projs'], raw[ri].info['projs'])):\n\u001b[0;32m-> 2349\u001b[0;31m             \u001b[0;32mraise\u001b[0m \u001b[0mValueError\u001b[0m\u001b[0;34m(\u001b[0m\u001b[0;34m'SSP projectors in raw files must be the same'\u001b[0m\u001b[0;34m)\u001b[0m\u001b[0;34m\u001b[0m\u001b[0;34m\u001b[0m\u001b[0m\n\u001b[0m\u001b[1;32m   2350\u001b[0m     \u001b[0;32mif\u001b[0m \u001b[0;32mnot\u001b[0m \u001b[0mall\u001b[0m\u001b[0;34m(\u001b[0m\u001b[0mr\u001b[0m\u001b[0;34m.\u001b[0m\u001b[0morig_format\u001b[0m \u001b[0;34m==\u001b[0m \u001b[0mraw\u001b[0m\u001b[0;34m[\u001b[0m\u001b[0;36m0\u001b[0m\u001b[0;34m]\u001b[0m\u001b[0;34m.\u001b[0m\u001b[0morig_format\u001b[0m \u001b[0;32mfor\u001b[0m \u001b[0mr\u001b[0m \u001b[0;32min\u001b[0m \u001b[0mraw\u001b[0m\u001b[0;34m)\u001b[0m\u001b[0;34m:\u001b[0m\u001b[0;34m\u001b[0m\u001b[0;34m\u001b[0m\u001b[0m\n\u001b[1;32m   2351\u001b[0m         warn('raw files do not all have the same data format, could result in '\n",
      "\u001b[0;31mValueError\u001b[0m: SSP projectors in raw files must be the same"
     ]
    }
   ],
   "source": [
    "#raw_obj = concatenate_raws(raws)"
   ]
  },
  {
   "cell_type": "code",
   "execution_count": 94,
   "metadata": {},
   "outputs": [
    {
     "name": "stdout",
     "output_type": "stream",
     "text": [
      "540 events found\n",
      "Event IDs: [  11   12   13   14   21   22   23   24   31   32   33   34   41   42\n",
      "   43   44  111  112  113  114  121  122  123  124  131  132  133  134\n",
      "  141  142  143  144  211  212  213  214  221  222  223  224  231  232\n",
      "  233  234  241  242  243  244 1000 1111 2001]\n"
     ]
    },
    {
     "data": {
      "text/plain": [
       "{}"
      ]
     },
     "execution_count": 94,
     "metadata": {},
     "output_type": "execute_result"
    }
   ],
   "source": [
    "events = mne.find_events(raws[0], stim_channel='STI 014')\n",
    "event_ids"
   ]
  },
  {
   "cell_type": "code",
   "execution_count": 100,
   "metadata": {},
   "outputs": [
    {
     "data": {
      "image/png": "[encoded data removed]",
      "text/plain": [
       "<Figure size 432x288 with 5 Axes>"
      ]
     },
     "metadata": {},
     "output_type": "display_data"
    },
    {
     "data": {
      "image/png": "[encoded data removed]",
      "text/plain": [
       "<Figure size 432x288 with 5 Axes>"
      ]
     },
     "execution_count": 100,
     "metadata": {},
     "output_type": "execute_result"
    }
   ],
   "source": [
    "%matplotlib inline\n",
    "raws[0].copy().pick_types(meg=False, stim=True).plot(start=3, duration=6)"
   ]
  },
  {
   "cell_type": "code",
   "execution_count": null,
   "metadata": {},
   "outputs": [],
   "source": []
  }
 ],
 "metadata": {
  "kernelspec": {
   "display_name": "Python 3",
   "language": "python",
   "name": "python3"
  },
  "language_info": {
   "codemirror_mode": {
    "name": "ipython",
    "version": 3
   },
   "file_extension": ".py",
   "mimetype": "text/x-python",
   "name": "python",
   "nbconvert_exporter": "python",
   "pygments_lexer": "ipython3",
   "version": "3.7.1"
  }
 },
 "nbformat": 4,
 "nbformat_minor": 2
}
