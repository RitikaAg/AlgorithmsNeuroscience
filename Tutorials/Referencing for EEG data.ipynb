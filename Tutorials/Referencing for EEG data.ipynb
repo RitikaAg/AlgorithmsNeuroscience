{
 "cells": [
  {
   "cell_type": "markdown",
   "metadata": {},
   "source": [
    "## Tutorial #3: Referencing EEG Data\n",
    "This tutorial is about effects of different approaches for referencing EEG data.\n",
    "\n",
    "##### Referencing:\n",
    "EEG recordings are collected by measuring the voltage differences between a part of the brain and the reference point. After collecting the data, the referernce can be changed and this process is called re-referencing. If the reference changes, the amplitude of the signal at the channels will differ too. Therefore referencing is very critical for EEG data. Rereferencing can be formulazied as follows: \n",
    "\n",
    "new electrical potential at a channel = electrical potential at a channel + electrical potential at the original reference - electrical potential at the new reference\n",
    "\n",
    "##### Selecting the reference:\n",
    "Athough there is no optimal strategy for selecting the reference, there are several commonly applied approaches. \n",
    "One way is to compute the average of potentials at the channels and use this potential as the reference potential. After subtracting this value from electrical potential at each channel, referencing would be completed. \n",
    "Another approach is to select the channels where electrical activity is the lowest such as ears. \n",
    "\n",
    "Apart from the traditional approaches above, there are several statistical approaches to select the reference that perfom the best. "
   ]
  },
  {
   "cell_type": "code",
   "execution_count": 3,
   "metadata": {},
   "outputs": [],
   "source": [
    "import mne\n",
    "import mne.viz"
   ]
  },
  {
   "cell_type": "code",
   "execution_count": 2,
   "metadata": {},
   "outputs": [
    {
     "name": "stdout",
     "output_type": "stream",
     "text": [
      "Reading ../../817_1_PDDys_ODDBALL_Clean_curated-epo.fif ...\n",
      "    Found the data of interest:\n",
      "        t =    -100.00 ...     500.00 ms\n",
      "        0 CTF compensation matrices available\n",
      "189 matching events found\n",
      "No baseline correction applied\n",
      "Not setting metadata\n",
      "0 projection items activated\n"
     ]
    }
   ],
   "source": [
    "#Load epoched data\n",
    "data_file = '../../817_1_PDDys_ODDBALL_Clean_curated-epo'\n",
    "\n",
    "# Read the EEG epochs:\n",
    "epochs = mne.read_epochs(data_file + '.fif')"
   ]
  },
  {
   "cell_type": "code",
   "execution_count": null,
   "metadata": {},
   "outputs": [],
   "source": []
  }
 ],
 "metadata": {
  "kernelspec": {
   "display_name": "Python 3",
   "language": "python",
   "name": "python3"
  },
  "language_info": {
   "codemirror_mode": {
    "name": "ipython",
    "version": 3
   },
   "file_extension": ".py",
   "mimetype": "text/x-python",
   "name": "python",
   "nbconvert_exporter": "python",
   "pygments_lexer": "ipython3",
   "version": "3.7.1"
  }
 },
 "nbformat": 4,
 "nbformat_minor": 2
}
