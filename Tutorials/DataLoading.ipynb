{
 "cells": [
  {
   "cell_type": "markdown",
   "metadata": {},
   "source": [
    "## Tutorial #1: Loading Data"
   ]
  },
  {
   "cell_type": "markdown",
   "metadata": {},
   "source": [
    "#### This tutorial focuses on loading EEG data in several different ways.  "
   ]
  },
  {
   "cell_type": "code",
   "execution_count": 6,
   "metadata": {},
   "outputs": [],
   "source": [
    "import mne #open-source Python package for exploring, visualizing, and analyzing human neurophysiological data"
   ]
  },
  {
   "cell_type": "markdown",
   "metadata": {},
   "source": [
    "EEG data can be kept in 3 different types: raw data, epoched data and evoked (averaged) data.\n",
    "\n",
    "1. Raw Data: Continues data is stored in raw object in MNE. A raw object has 2D array structure as channels×samples.\n",
    "   \n",
    "2. Epoched Data: Collection of time-locked trials. It is stored as events×channles×times.\n",
    "\n",
    "3. Evoked Data: When epoched data is averaged out over trials, evoked data is produced. The output is time-locked to the event. It is stored as channels×times."
   ]
  },
  {
   "cell_type": "markdown",
   "metadata": {},
   "source": [
    "#### 1.1) Loading datasets available in MNE: EEGBCI motor imagery Dataset\n"
   ]
  },
  {
   "cell_type": "code",
   "execution_count": 23,
   "metadata": {},
   "outputs": [
    {
     "name": "stdout",
     "output_type": "stream",
     "text": [
      "Extracting EDF parameters from /Users/scg/Desktop/AlgorithmsNeuroscience/datasets/MNE-eegbci-data/physiobank/database/eegmmidb/S001/S001R06.edf...\n",
      "EDF file detected\n",
      "Setting channel info structure...\n",
      "Creating raw.info structure...\n",
      "Reading 0 ... 19999  =      0.000 ...   124.994 secs...\n",
      "Extracting EDF parameters from /Users/scg/Desktop/AlgorithmsNeuroscience/datasets/MNE-eegbci-data/physiobank/database/eegmmidb/S001/S001R10.edf...\n",
      "EDF file detected\n",
      "Setting channel info structure...\n",
      "Creating raw.info structure...\n",
      "Reading 0 ... 19999  =      0.000 ...   124.994 secs...\n",
      "Extracting EDF parameters from /Users/scg/Desktop/AlgorithmsNeuroscience/datasets/MNE-eegbci-data/physiobank/database/eegmmidb/S001/S001R14.edf...\n",
      "EDF file detected\n",
      "Setting channel info structure...\n",
      "Creating raw.info structure...\n",
      "Reading 0 ... 19999  =      0.000 ...   124.994 secs...\n"
     ]
    }
   ],
   "source": [
    "import os\n",
    "from mne.datasets import eegbci\n",
    "from mne.io import concatenate_raws, read_raw_edf\n",
    "# The parameters for loading data are as following: \n",
    "# subject(s) whose data will be fetched, runs corresponding to different tasks, path to locate fetched data\n",
    "# load_data() function returns name of the files that the data is kept.\n",
    "\n",
    "#Define the parameters \n",
    "subject = 1  # use data from subject 1\n",
    "runs = [6, 10, 14]  # use only hand and feet motor imagery runs\n",
    "\n",
    "#Get data and locate in to given path\n",
    "files = eegbci.load_data(subject, runs, '../datasets/')\n",
    "#Read raw data files where each file contains a run\n",
    "raws = [read_raw_edf(f, preload=True) for f in files]\n",
    "#Combine all loaded runs\n",
    "raw_data = concatenate_raws(raws)"
   ]
  },
  {
   "cell_type": "code",
   "execution_count": 44,
   "metadata": {},
   "outputs": [
    {
     "data": {
      "text/plain": [
       "<Info | 16 non-empty fields\n",
       "    bads : list | 0 items\n",
       "    ch_names : list | Fc5., Fc3., Fc1., Fcz., Fc2., Fc4., Fc6., C5.., C3.., ...\n",
       "    chs : list | 64 items (EEG: 64)\n",
       "    comps : list | 0 items\n",
       "    custom_ref_applied : bool | False\n",
       "    dev_head_t : Transform | 3 items\n",
       "    events : list | 0 items\n",
       "    highpass : float | 0.0 Hz\n",
       "    hpi_meas : list | 0 items\n",
       "    hpi_results : list | 0 items\n",
       "    lowpass : float | 80.0 Hz\n",
       "    meas_date : tuple | 2009-08-12 16:15:00 GMT\n",
       "    nchan : int | 64\n",
       "    proc_history : list | 0 items\n",
       "    projs : list | 0 items\n",
       "    sfreq : float | 160.0 Hz\n",
       "    acq_pars : NoneType\n",
       "    acq_stim : NoneType\n",
       "    ctf_head_t : NoneType\n",
       "    description : NoneType\n",
       "    dev_ctf_t : NoneType\n",
       "    dig : NoneType\n",
       "    experimenter : NoneType\n",
       "    file_id : NoneType\n",
       "    gantry_angle : NoneType\n",
       "    hpi_subsystem : NoneType\n",
       "    kit_system_id : NoneType\n",
       "    line_freq : NoneType\n",
       "    meas_id : NoneType\n",
       "    proj_id : NoneType\n",
       "    proj_name : NoneType\n",
       "    subject_info : NoneType\n",
       "    xplotter_layout : NoneType\n",
       ">"
      ]
     },
     "execution_count": 44,
     "metadata": {},
     "output_type": "execute_result"
    }
   ],
   "source": [
    "#The following line can be useful for getting general information about the data\n",
    "raw_data.info"
   ]
  },
  {
   "cell_type": "code",
   "execution_count": 34,
   "metadata": {},
   "outputs": [
    {
     "name": "stdout",
     "output_type": "stream",
     "text": [
      "Used Annotations descriptions: ['T0', 'T1', 'T2']\n"
     ]
    },
    {
     "data": {
      "text/plain": [
       "{'T0': 1, 'T1': 2, 'T2': 3}"
      ]
     },
     "execution_count": 34,
     "metadata": {},
     "output_type": "execute_result"
    }
   ],
   "source": [
    "#Extract events from raw data\n",
    "events, event_ids = mne.events_from_annotations(raw_data, event_id='auto')\n",
    "event_ids"
   ]
  },
  {
   "cell_type": "code",
   "execution_count": 40,
   "metadata": {},
   "outputs": [
    {
     "name": "stdout",
     "output_type": "stream",
     "text": [
      "90 matching events found\n",
      "No baseline correction applied\n",
      "Not setting metadata\n",
      "0 projection items activated\n",
      "Loading data for 90 events and 961 original time points ...\n",
      "3 bad epochs dropped\n"
     ]
    }
   ],
   "source": [
    "tmin, tmax = -1, 4  # define epochs around events (in s)\n",
    "#event_ids = dict(hands=2, feet=3)  # map event IDs to tasks\n",
    "\n",
    "epochs = mne.Epochs(raw_data, events, event_ids, tmin - 0.5, tmax + 0.5, baseline=None, preload=True)"
   ]
  },
  {
   "cell_type": "code",
   "execution_count": 42,
   "metadata": {},
   "outputs": [
    {
     "data": {
      "text/plain": [
       "array([[[ 1.40e-05, -1.00e-05,  5.00e-06, ..., -9.70e-05, -1.10e-04,\n",
       "         -8.30e-05],\n",
       "        [ 2.70e-05,  8.00e-06,  2.10e-05, ..., -7.70e-05, -9.00e-05,\n",
       "         -6.10e-05],\n",
       "        [ 3.10e-05,  1.40e-05,  2.20e-05, ..., -4.50e-05, -5.90e-05,\n",
       "         -3.90e-05],\n",
       "        ...,\n",
       "        [ 5.30e-05,  5.40e-05,  7.10e-05, ..., -3.20e-05, -2.00e-05,\n",
       "         -2.40e-05],\n",
       "        [ 2.90e-05,  4.00e-05,  6.90e-05, ..., -2.30e-05, -6.00e-06,\n",
       "         -7.00e-06],\n",
       "        [-3.30e-05, -3.10e-05, -7.00e-06, ..., -1.60e-05,  1.00e-06,\n",
       "         -1.10e-05]],\n",
       "\n",
       "       [[-1.20e-05,  2.00e-06,  3.20e-05, ...,  7.50e-05,  4.20e-05,\n",
       "          3.20e-05],\n",
       "        [-6.00e-06,  4.00e-06,  3.00e-05, ...,  9.10e-05,  5.20e-05,\n",
       "          3.90e-05],\n",
       "        [-2.00e-06,  1.00e-06,  2.50e-05, ...,  1.18e-04,  8.10e-05,\n",
       "          6.30e-05],\n",
       "        ...,\n",
       "        [-1.10e-05,  1.00e-06,  1.40e-05, ...,  6.20e-05,  5.50e-05,\n",
       "          3.90e-05],\n",
       "        [-9.00e-06, -3.00e-06,  7.00e-06, ...,  7.90e-05,  6.30e-05,\n",
       "          4.30e-05],\n",
       "        [-3.70e-05, -2.60e-05, -2.00e-05, ...,  2.20e-05,  2.50e-05,\n",
       "          1.10e-05]],\n",
       "\n",
       "       [[ 7.00e-06, -4.00e-06, -1.40e-05, ..., -8.00e-06, -7.00e-06,\n",
       "         -2.30e-05],\n",
       "        [-1.10e-05, -2.40e-05, -3.80e-05, ..., -1.00e-05, -6.00e-06,\n",
       "         -2.00e-05],\n",
       "        [-3.70e-05, -4.20e-05, -5.40e-05, ..., -1.20e-05, -7.00e-06,\n",
       "         -1.60e-05],\n",
       "        ...,\n",
       "        [ 0.00e+00, -1.10e-05, -2.30e-05, ..., -3.70e-05, -5.50e-05,\n",
       "         -5.80e-05],\n",
       "        [-1.20e-05, -3.00e-05, -4.60e-05, ..., -2.20e-05, -3.90e-05,\n",
       "         -4.20e-05],\n",
       "        [-1.00e-06, -1.10e-05, -2.30e-05, ...,  1.60e-05, -6.00e-06,\n",
       "         -1.60e-05]],\n",
       "\n",
       "       ...,\n",
       "\n",
       "       [[ 1.50e-05,  2.40e-05,  3.40e-05, ...,  2.10e-05,  3.80e-05,\n",
       "          2.90e-05],\n",
       "        [ 4.00e-06,  9.00e-06,  2.20e-05, ...,  3.50e-05,  5.10e-05,\n",
       "          3.60e-05],\n",
       "        [ 7.00e-06,  6.00e-06,  1.80e-05, ...,  4.40e-05,  5.10e-05,\n",
       "          3.40e-05],\n",
       "        ...,\n",
       "        [-3.30e-05, -4.00e-05, -5.40e-05, ..., -1.50e-05, -1.20e-05,\n",
       "         -3.10e-05],\n",
       "        [-4.00e-05, -4.50e-05, -5.80e-05, ..., -6.00e-06,  4.00e-06,\n",
       "         -1.20e-05],\n",
       "        [-2.80e-05, -4.80e-05, -6.10e-05, ..., -1.80e-05, -1.70e-05,\n",
       "         -3.30e-05]],\n",
       "\n",
       "       [[-2.50e-05, -1.40e-05, -1.50e-05, ..., -4.60e-05, -5.00e-05,\n",
       "         -4.30e-05],\n",
       "        [-1.30e-05,  2.00e-06,  0.00e+00, ..., -7.00e-06, -3.10e-05,\n",
       "         -3.10e-05],\n",
       "        [ 3.00e-06,  1.00e-05,  5.00e-06, ...,  8.00e-06, -2.60e-05,\n",
       "         -3.50e-05],\n",
       "        ...,\n",
       "        [ 2.90e-05,  2.50e-05,  3.40e-05, ..., -1.00e-05, -1.00e-05,\n",
       "         -2.00e-05],\n",
       "        [ 2.00e-05,  8.00e-06,  1.80e-05, ..., -1.80e-05, -1.60e-05,\n",
       "         -2.90e-05],\n",
       "        [ 3.40e-05,  2.70e-05,  3.20e-05, ..., -2.20e-05, -1.10e-05,\n",
       "         -2.00e-05]],\n",
       "\n",
       "       [[-4.00e-05, -4.80e-05, -1.11e-04, ...,  0.00e+00,  0.00e+00,\n",
       "          0.00e+00],\n",
       "        [-4.80e-05, -3.90e-05, -7.50e-05, ...,  0.00e+00,  0.00e+00,\n",
       "          0.00e+00],\n",
       "        [-3.50e-05, -2.90e-05, -9.10e-05, ...,  0.00e+00,  0.00e+00,\n",
       "          0.00e+00],\n",
       "        ...,\n",
       "        [ 1.00e-04,  3.90e-05, -5.70e-05, ...,  0.00e+00,  0.00e+00,\n",
       "          0.00e+00],\n",
       "        [ 1.21e-04,  6.20e-05, -2.50e-05, ...,  0.00e+00,  0.00e+00,\n",
       "          0.00e+00],\n",
       "        [ 1.31e-04,  5.40e-05, -6.50e-05, ...,  0.00e+00,  0.00e+00,\n",
       "          0.00e+00]]])"
      ]
     },
     "execution_count": 42,
     "metadata": {},
     "output_type": "execute_result"
    }
   ],
   "source": [
    "#Access to the data\n",
    "epochs._data"
   ]
  },
  {
   "cell_type": "markdown",
   "metadata": {},
   "source": [
    "#### 1.2) Loading data that is not available in MNE"
   ]
  },
  {
   "cell_type": "code",
   "execution_count": 48,
   "metadata": {},
   "outputs": [
    {
     "name": "stdout",
     "output_type": "stream",
     "text": [
      "Reading ../../817_1_PDDys_ODDBALL_Clean_curated-epo.fif ...\n",
      "    Found the data of interest:\n",
      "        t =    -100.00 ...     500.00 ms\n",
      "        0 CTF compensation matrices available\n",
      "189 matching events found\n",
      "No baseline correction applied\n",
      "Not setting metadata\n",
      "0 projection items activated\n",
      "189\n"
     ]
    }
   ],
   "source": [
    "## Loading Epoched data \n",
    "\n",
    "# The file name should end with'epo' to be able to load it via mne\n",
    "data_file = '../../817_1_PDDys_ODDBALL_Clean_curated-epo'\n",
    "\n",
    "# Read the EEG epochs:\n",
    "epochs = mne.read_epochs(data_file + '.fif')\n",
    "print(len(epochs))"
   ]
  },
  {
   "cell_type": "code",
   "execution_count": 46,
   "metadata": {},
   "outputs": [
    {
     "data": {
      "text/plain": [
       "<Info | 19 non-empty fields\n",
       "    bads : list | 0 items\n",
       "    ch_names : list | Fp1, Fz, F3, F7, FC5, FC1, C3, T7, CP5, ...\n",
       "    chs : list | 60 items (EEG: 60)\n",
       "    comps : list | 0 items\n",
       "    custom_ref_applied : bool | False\n",
       "    dev_head_t : Transform | 3 items\n",
       "    dig : list | 60 items (60 EEG)\n",
       "    events : list | 0 items\n",
       "    file_id : dict | 4 items\n",
       "    highpass : float | 0.0 Hz\n",
       "    hpi_meas : list | 0 items\n",
       "    hpi_results : list | 0 items\n",
       "    lowpass : float | 250.0 Hz\n",
       "    meas_date : NoneType | unspecified\n",
       "    meas_id : dict | 4 items\n",
       "    nchan : int | 60\n",
       "    proc_history : list | 0 items\n",
       "    projs : list | 0 items\n",
       "    sfreq : float | 500.0 Hz\n",
       "    acq_pars : NoneType\n",
       "    acq_stim : NoneType\n",
       "    ctf_head_t : NoneType\n",
       "    description : NoneType\n",
       "    dev_ctf_t : NoneType\n",
       "    experimenter : NoneType\n",
       "    gantry_angle : NoneType\n",
       "    hpi_subsystem : NoneType\n",
       "    kit_system_id : NoneType\n",
       "    line_freq : NoneType\n",
       "    proj_id : NoneType\n",
       "    proj_name : NoneType\n",
       "    subject_info : NoneType\n",
       "    xplotter_layout : NoneType\n",
       ">"
      ]
     },
     "execution_count": 46,
     "metadata": {},
     "output_type": "execute_result"
    }
   ],
   "source": [
    "#The following line can be useful for getting general information about the data\n",
    "epochs.info"
   ]
  },
  {
   "cell_type": "code",
   "execution_count": 50,
   "metadata": {},
   "outputs": [
    {
     "name": "stdout",
     "output_type": "stream",
     "text": [
      "Same data!\n"
     ]
    }
   ],
   "source": [
    "## Accessing to the data\n",
    "\n",
    "# The data can be accessed via:\n",
    "epochs_data_1 = epochs._data\n",
    "#or \n",
    "epochs_data_2 = epochs.get_data()\n",
    "#To check whether the two different ways returns the same data\n",
    "if epochs_data_1.all() == epochs_data_2.all():\n",
    "    print(\"Same data!\")"
   ]
  },
  {
   "cell_type": "code",
   "execution_count": 51,
   "metadata": {},
   "outputs": [
    {
     "data": {
      "text/plain": [
       "{'Standard': 201, 'Target': 200, 'Novel': 202}"
      ]
     },
     "execution_count": 51,
     "metadata": {},
     "output_type": "execute_result"
    }
   ],
   "source": [
    "# To get names of all the conditions in given data and number of events in each condition\n",
    "epochs.event_id"
   ]
  },
  {
   "cell_type": "code",
   "execution_count": 52,
   "metadata": {},
   "outputs": [],
   "source": [
    "#To access epochs with a specific condition\n",
    "novels = epochs['Novel']"
   ]
  },
  {
   "cell_type": "code",
   "execution_count": 53,
   "metadata": {},
   "outputs": [
    {
     "name": "stdout",
     "output_type": "stream",
     "text": [
      "Start time before the event -0.1\n",
      "Stop time after the event 0.5\n"
     ]
    }
   ],
   "source": [
    "tmin = epochs.tmin\n",
    "tmax = epochs.tmax\n",
    "\n",
    "print('Start time before the event' , tmin)\n",
    "print('Stop time after the event' , tmax)"
   ]
  }
 ],
 "metadata": {
  "kernelspec": {
   "display_name": "Python 3",
   "language": "python",
   "name": "python3"
  },
  "language_info": {
   "codemirror_mode": {
    "name": "ipython",
    "version": 3
   },
   "file_extension": ".py",
   "mimetype": "text/x-python",
   "name": "python",
   "nbconvert_exporter": "python",
   "pygments_lexer": "ipython3",
   "version": "3.7.1"
  }
 },
 "nbformat": 4,
 "nbformat_minor": 2
}
