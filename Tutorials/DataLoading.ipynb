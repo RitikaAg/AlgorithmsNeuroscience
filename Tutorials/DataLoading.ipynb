{
 "cells": [
  {
   "cell_type": "markdown",
   "metadata": {},
   "source": [
    "## Tutorial #1: Loading Data"
   ]
  },
  {
   "cell_type": "markdown",
   "metadata": {},
   "source": [
    "#### This tutorial focuses on loading EEG data in several different ways.  "
   ]
  },
  {
   "cell_type": "code",
   "execution_count": 1,
   "metadata": {},
   "outputs": [],
   "source": [
    "import mne #open-source Python package for exploring, visualizing, and analyzing human neurophysiological data"
   ]
  },
  {
   "cell_type": "markdown",
   "metadata": {},
   "source": [
    "EEG data can be kept in 3 different types: raw data, epoched data and evoked (averaged) data.\n",
    "\n",
    "1. Raw Data: Continues data is stored in raw object in MNE. A raw object has 2D array structure as channels×samples.\n",
    "   In order to load continues data mne.io.read_raw_fif() function can be used.\n",
    "   \n",
    "   !!! Find raw data and convert it to epoched version as an example!!\n",
    "   \n",
    "2. Epoched Data: Collection of time-locked trials. It is stored as events×channles×times.\n",
    "\n",
    "3. Evoked Data: When epoched data is averaged out over trials, evoked data is produced. The output is time-locked to the event. It is stored as channels×times."
   ]
  },
  {
   "cell_type": "code",
   "execution_count": 8,
   "metadata": {},
   "outputs": [
    {
     "name": "stdout",
     "output_type": "stream",
     "text": [
      "Reading 817_1_PDDys_ODDBALL_Clean_curated-epo.fif ...\n",
      "    Found the data of interest:\n",
      "        t =    -100.00 ...     500.00 ms\n",
      "        0 CTF compensation matrices available\n",
      "189 matching events found\n",
      "No baseline correction applied\n",
      "Not setting metadata\n",
      "0 projection items activated\n"
     ]
    }
   ],
   "source": [
    "## Loading Epoched data\n",
    "\n",
    "# the file name should end with'epo' to be able to load it via mne\n",
    "data_file = '817_1_PDDys_ODDBALL_Clean_curated-epo'\n",
    "\n",
    "# We read the EEG epochs:\n",
    "epochs = mne.read_epochs(data_file + '.fif')"
   ]
  },
  {
   "cell_type": "code",
   "execution_count": 47,
   "metadata": {},
   "outputs": [
    {
     "data": {
      "text/plain": [
       "<Info | 19 non-empty fields\n",
       "    bads : list | 0 items\n",
       "    ch_names : list | Fp1, Fz, F3, F7, FC5, FC1, C3, T7, CP5, ...\n",
       "    chs : list | 60 items (EEG: 60)\n",
       "    comps : list | 0 items\n",
       "    custom_ref_applied : bool | False\n",
       "    dev_head_t : Transform | 3 items\n",
       "    dig : list | 60 items (60 EEG)\n",
       "    events : list | 0 items\n",
       "    file_id : dict | 4 items\n",
       "    highpass : float | 0.0 Hz\n",
       "    hpi_meas : list | 0 items\n",
       "    hpi_results : list | 0 items\n",
       "    lowpass : float | 250.0 Hz\n",
       "    meas_date : NoneType | unspecified\n",
       "    meas_id : dict | 4 items\n",
       "    nchan : int | 60\n",
       "    proc_history : list | 0 items\n",
       "    projs : list | 0 items\n",
       "    sfreq : float | 500.0 Hz\n",
       "    acq_pars : NoneType\n",
       "    acq_stim : NoneType\n",
       "    ctf_head_t : NoneType\n",
       "    description : NoneType\n",
       "    dev_ctf_t : NoneType\n",
       "    experimenter : NoneType\n",
       "    gantry_angle : NoneType\n",
       "    hpi_subsystem : NoneType\n",
       "    kit_system_id : NoneType\n",
       "    line_freq : NoneType\n",
       "    proj_id : NoneType\n",
       "    proj_name : NoneType\n",
       "    subject_info : NoneType\n",
       "    xplotter_layout : NoneType\n",
       ">"
      ]
     },
     "execution_count": 47,
     "metadata": {},
     "output_type": "execute_result"
    }
   ],
   "source": [
    "#The following line can be useful for getting general information about the data\n",
    "epochs.info"
   ]
  },
  {
   "cell_type": "code",
   "execution_count": 54,
   "metadata": {},
   "outputs": [
    {
     "name": "stdout",
     "output_type": "stream",
     "text": [
      "Same data!\n"
     ]
    }
   ],
   "source": [
    "## Accessing to the data\n",
    "\n",
    "# The data can be accessed via:\n",
    "epochs_data_1 = epochs._data\n",
    "#or \n",
    "epochs_data_2 = epochs.get_data() # because I couldn't find the version above in the MNE documentation\n",
    "#To check whether the two different ways returns the same data\n",
    "if epochs_data_1.all() == epochs_data_2.all():\n",
    "    print(\"Same data!\")"
   ]
  },
  {
   "cell_type": "code",
   "execution_count": 64,
   "metadata": {},
   "outputs": [
    {
     "data": {
      "text/plain": [
       "{'Standard': 201, 'Target': 200, 'Novel': 202}"
      ]
     },
     "execution_count": 64,
     "metadata": {},
     "output_type": "execute_result"
    }
   ],
   "source": [
    "# To get names of all the conditions in given data and number of events in each condition\n",
    "epochs.event_id"
   ]
  },
  {
   "cell_type": "code",
   "execution_count": 68,
   "metadata": {},
   "outputs": [
    {
     "name": "stdout",
     "output_type": "stream",
     "text": [
      "Start time before the event -0.1\n",
      "Stop time after the event 0.5\n"
     ]
    }
   ],
   "source": [
    "#To access epochs with a specific condition\n",
    "novels = epochs['Novel']"
   ]
  },
  {
   "cell_type": "code",
   "execution_count": 69,
   "metadata": {},
   "outputs": [
    {
     "name": "stdout",
     "output_type": "stream",
     "text": [
      "Start time before the event -0.1\n",
      "Stop time after the event 0.5\n"
     ]
    }
   ],
   "source": [
    "tmin = epochs.tmin\n",
    "tmax = epochs.tmax\n",
    "\n",
    "print('Start time before the event' , tmin)\n",
    "print('Stop time after the event' , tmax)"
   ]
  },
  {
   "cell_type": "code",
   "execution_count": null,
   "metadata": {},
   "outputs": [],
   "source": []
  }
 ],
 "metadata": {
  "kernelspec": {
   "display_name": "Python 3",
   "language": "python",
   "name": "python3"
  },
  "language_info": {
   "codemirror_mode": {
    "name": "ipython",
    "version": 3
   },
   "file_extension": ".py",
   "mimetype": "text/x-python",
   "name": "python",
   "nbconvert_exporter": "python",
   "pygments_lexer": "ipython3",
   "version": "3.7.1"
  }
 },
 "nbformat": 4,
 "nbformat_minor": 2
}
